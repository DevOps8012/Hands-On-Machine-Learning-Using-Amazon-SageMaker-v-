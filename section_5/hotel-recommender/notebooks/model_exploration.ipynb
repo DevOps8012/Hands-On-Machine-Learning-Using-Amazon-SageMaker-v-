{
 "cells": [
  {
   "cell_type": "markdown",
   "metadata": {},
   "source": [
    "# Model exploration"
   ]
  },
  {
   "cell_type": "code",
   "execution_count": 1,
   "metadata": {},
   "outputs": [],
   "source": [
    "import pickle\n",
    "\n",
    "with open('../data/processed/sentences.pkl', 'rb') as f:\n",
    "    sentences = pickle.load(f)"
   ]
  },
  {
   "cell_type": "code",
   "execution_count": 2,
   "metadata": {},
   "outputs": [
    {
     "data": {
      "text/plain": [
       "[['64', '64', '5', '29', '29', '46', '46'],\n",
       " ['48', '70', '68', '68', '32'],\n",
       " ['30', '30', '41', '23', '90', '92']]"
      ]
     },
     "execution_count": 2,
     "metadata": {},
     "output_type": "execute_result"
    }
   ],
   "source": [
    "sentences[:3]"
   ]
  },
  {
   "cell_type": "code",
   "execution_count": 3,
   "metadata": {},
   "outputs": [],
   "source": [
    "import gensim\n",
    "\n",
    "# Load Word2Vec model\n",
    "model = gensim.models.KeyedVectors.load_word2vec_format('../models/hotelcluster2vec.bin', binary=True)"
   ]
  },
  {
   "cell_type": "code",
   "execution_count": 4,
   "metadata": {},
   "outputs": [
    {
     "name": "stderr",
     "output_type": "stream",
     "text": [
      "/anaconda3/envs/hotel-recommender/lib/python3.7/site-packages/ipykernel_launcher.py:3: DeprecationWarning: Call to deprecated `wv` (Attribute will be removed in 4.0.0, use self instead).\n",
      "  This is separate from the ipykernel package so we can avoid doing imports until\n"
     ]
    },
    {
     "data": {
      "text/plain": [
       "array([ 0.04878867,  0.2095433 ,  0.11464512,  0.1924848 , -0.17757949,\n",
       "       -0.04309528,  0.0295376 , -0.12682842, -0.2783728 ,  0.08311261,\n",
       "       -0.16051036,  0.1082068 , -0.20593555, -0.11299201, -0.32155383,\n",
       "        0.08836225, -0.02787623, -0.0488433 , -0.05612311,  0.08583796,\n",
       "        0.10669619,  0.1391328 , -0.11198038,  0.19199347, -0.09248596,\n",
       "       -0.32670206, -0.05005806,  0.01696615, -0.20226133,  0.07732111,\n",
       "       -0.10944675,  0.04635532, -0.32812577, -0.00391728, -0.1669255 ,\n",
       "        0.32687595, -0.09833242, -0.07122643,  0.2329783 , -0.00850901,\n",
       "        0.15032399, -0.00530547,  0.02079029,  0.01259564, -0.09072472,\n",
       "       -0.07773968,  0.0340627 ,  0.01024869, -0.256543  , -0.05087709,\n",
       "        0.07383569, -0.25152272,  0.25993624,  0.01807471, -0.09789307,\n",
       "       -0.1387195 ,  0.11507126, -0.12733808, -0.03070356, -0.30152673,\n",
       "        0.01130959, -0.1639597 , -0.04421636,  0.10330307, -0.05899211,\n",
       "       -0.2032991 ,  0.07960451, -0.10166964,  0.15475033,  0.35198608,\n",
       "       -0.03960029,  0.22409427, -0.13417113,  0.07978033, -0.03336255,\n",
       "        0.21924785, -0.11479735,  0.29911232,  0.15286748, -0.11347847,\n",
       "        0.10300782, -0.03009513, -0.07124853, -0.09057567,  0.09882711,\n",
       "       -0.01335074, -0.17169994,  0.00433682, -0.19527209, -0.07272314,\n",
       "        0.24391444, -0.07937954,  0.0242735 ,  0.21434648, -0.2640234 ,\n",
       "        0.07606638, -0.15824756, -0.03471275,  0.20728809, -0.06087258],\n",
       "      dtype=float32)"
      ]
     },
     "execution_count": 4,
     "metadata": {},
     "output_type": "execute_result"
    }
   ],
   "source": [
    "# Show embedding vector for a specific hotel cluster\n",
    "\n",
    "model.wv['5']"
   ]
  },
  {
   "cell_type": "code",
   "execution_count": 5,
   "metadata": {},
   "outputs": [
    {
     "name": "stderr",
     "output_type": "stream",
     "text": [
      "/anaconda3/envs/hotel-recommender/lib/python3.7/site-packages/ipykernel_launcher.py:3: DeprecationWarning: Call to deprecated `wv` (Attribute will be removed in 4.0.0, use self instead).\n",
      "  This is separate from the ipykernel package so we can avoid doing imports until\n",
      "/anaconda3/envs/hotel-recommender/lib/python3.7/site-packages/gensim/matutils.py:737: FutureWarning: Conversion of the second argument of issubdtype from `int` to `np.signedinteger` is deprecated. In future, it will be treated as `np.int64 == np.dtype(int).type`.\n",
      "  if np.issubdtype(vec.dtype, np.int):\n"
     ]
    },
    {
     "data": {
      "text/plain": [
       "[('29', 0.46997910737991333),\n",
       " ('30', 0.44286125898361206),\n",
       " ('78', 0.42188531160354614),\n",
       " ('11', 0.421170175075531),\n",
       " ('62', 0.4194881319999695)]"
      ]
     },
     "execution_count": 5,
     "metadata": {},
     "output_type": "execute_result"
    }
   ],
   "source": [
    "# Show the 5 most \"similar\" hotel clusters\n",
    "\n",
    "model.wv.most_similar('5')[:5]"
   ]
  },
  {
   "cell_type": "code",
   "execution_count": null,
   "metadata": {},
   "outputs": [],
   "source": []
  }
 ],
 "metadata": {
  "kernelspec": {
   "display_name": "Python 3",
   "language": "python",
   "name": "python3"
  },
  "language_info": {
   "codemirror_mode": {
    "name": "ipython",
    "version": 3
   },
   "file_extension": ".py",
   "mimetype": "text/x-python",
   "name": "python",
   "nbconvert_exporter": "python",
   "pygments_lexer": "ipython3",
   "version": "3.7.1"
  }
 },
 "nbformat": 4,
 "nbformat_minor": 2
}
